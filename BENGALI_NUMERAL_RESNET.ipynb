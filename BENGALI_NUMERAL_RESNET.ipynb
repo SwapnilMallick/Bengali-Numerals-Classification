{
 "cells": [
  {
   "cell_type": "code",
   "execution_count": 282,
   "metadata": {
    "collapsed": true
   },
   "outputs": [],
   "source": [
    "from PIL import Image\n",
    "import os, sys\n",
    "\n",
    "path = \"/home/swapnil/Desktop/BENGALI_HANDWRITING_DATASET/train/0/\"\n",
    "dirs = os.listdir( path )\n",
    "\n",
    "def resize():\n",
    "    for item in dirs:\n",
    "        if os.path.isfile(path+item):\n",
    "            im = Image.open(path+item)\n",
    "            f, e = os.path.splitext(path+item)\n",
    "            imResize = im.resize((28,28), Image.ANTIALIAS)\n",
    "            imResize.save(f + '.tif', 'TIFF', quality=120)\n",
    "            \n",
    "\n",
    "resize()"
   ]
  },
  {
   "cell_type": "code",
   "execution_count": 283,
   "metadata": {
    "collapsed": true
   },
   "outputs": [],
   "source": [
    "from PIL import Image\n",
    "import os, sys\n",
    "\n",
    "path = \"/home/swapnil/Desktop/BENGALI_HANDWRITING_DATASET/train/1/\"\n",
    "dirs = os.listdir( path )\n",
    "\n",
    "def resize():\n",
    "    for item in dirs:\n",
    "        if os.path.isfile(path+item):\n",
    "            im = Image.open(path+item)\n",
    "            f, e = os.path.splitext(path+item)\n",
    "            imResize = im.resize((28,28), Image.ANTIALIAS)\n",
    "            imResize.save(f + '.tif', 'TIFF', quality=120)\n",
    "\n",
    "resize()"
   ]
  },
  {
   "cell_type": "code",
   "execution_count": 284,
   "metadata": {
    "collapsed": true
   },
   "outputs": [],
   "source": [
    "from PIL import Image\n",
    "import os, sys\n",
    "\n",
    "path = \"/home/swapnil/Desktop/BENGALI_HANDWRITING_DATASET/train/2/\"\n",
    "dirs = os.listdir( path )\n",
    "\n",
    "def resize():\n",
    "    for item in dirs:\n",
    "        if os.path.isfile(path+item):\n",
    "            im = Image.open(path+item)\n",
    "            f, e = os.path.splitext(path+item)\n",
    "            imResize = im.resize((28,28), Image.ANTIALIAS)\n",
    "            imResize.save(f + '.tif', 'TIFF', quality=120)\n",
    "\n",
    "resize()"
   ]
  },
  {
   "cell_type": "code",
   "execution_count": 285,
   "metadata": {
    "collapsed": true
   },
   "outputs": [],
   "source": [
    "from PIL import Image\n",
    "import os, sys\n",
    "\n",
    "path = \"/home/swapnil/Desktop/BENGALI_HANDWRITING_DATASET/train/3/\"\n",
    "dirs = os.listdir( path )\n",
    "\n",
    "def resize():\n",
    "    for item in dirs:\n",
    "        if os.path.isfile(path+item):\n",
    "            im = Image.open(path+item)\n",
    "            f, e = os.path.splitext(path+item)\n",
    "            imResize = im.resize((28,28), Image.ANTIALIAS)\n",
    "            imResize.save(f + '.tif', 'TIFF', quality=120)\n",
    "\n",
    "resize()"
   ]
  },
  {
   "cell_type": "code",
   "execution_count": 286,
   "metadata": {
    "collapsed": true
   },
   "outputs": [],
   "source": [
    "from PIL import Image\n",
    "import os, sys\n",
    "\n",
    "path = \"/home/swapnil/Desktop/BENGALI_HANDWRITING_DATASET/train/4/\"\n",
    "dirs = os.listdir( path )\n",
    "\n",
    "def resize():\n",
    "    for item in dirs:\n",
    "        if os.path.isfile(path+item):\n",
    "            im = Image.open(path+item)\n",
    "            f, e = os.path.splitext(path+item)\n",
    "            imResize = im.resize((28,28), Image.ANTIALIAS)\n",
    "            imResize.save(f + '.tif', 'TIFF', quality=120)\n",
    "\n",
    "resize()"
   ]
  },
  {
   "cell_type": "code",
   "execution_count": 287,
   "metadata": {
    "collapsed": true
   },
   "outputs": [],
   "source": [
    "from PIL import Image\n",
    "import os, sys\n",
    "\n",
    "path = \"/home/swapnil/Desktop/BENGALI_HANDWRITING_DATASET/train/5/\"\n",
    "dirs = os.listdir( path )\n",
    "\n",
    "def resize():\n",
    "    for item in dirs:\n",
    "        if os.path.isfile(path+item):\n",
    "            im = Image.open(path+item)\n",
    "            f, e = os.path.splitext(path+item)\n",
    "            imResize = im.resize((28,28), Image.ANTIALIAS)\n",
    "            imResize.save(f + '.tif', 'TIFF', quality=120)\n",
    "\n",
    "resize()"
   ]
  },
  {
   "cell_type": "code",
   "execution_count": 288,
   "metadata": {
    "collapsed": true
   },
   "outputs": [],
   "source": [
    "from PIL import Image\n",
    "import os, sys\n",
    "\n",
    "path = \"/home/swapnil/Desktop/BENGALI_HANDWRITING_DATASET/train/6/\"\n",
    "dirs = os.listdir( path )\n",
    "\n",
    "def resize():\n",
    "    for item in dirs:\n",
    "        if os.path.isfile(path+item):\n",
    "            im = Image.open(path+item)\n",
    "            f, e = os.path.splitext(path+item)\n",
    "            imResize = im.resize((28,28), Image.ANTIALIAS)\n",
    "            imResize.save(f + '.tif', 'TIFF', quality=120)\n",
    "\n",
    "resize()"
   ]
  },
  {
   "cell_type": "code",
   "execution_count": 289,
   "metadata": {
    "collapsed": true
   },
   "outputs": [],
   "source": [
    "from PIL import Image\n",
    "import os, sys\n",
    "\n",
    "path = \"/home/swapnil/Desktop/BENGALI_HANDWRITING_DATASET/train/7/\"\n",
    "dirs = os.listdir( path )\n",
    "\n",
    "def resize():\n",
    "    for item in dirs:\n",
    "        if os.path.isfile(path+item):\n",
    "            im = Image.open(path+item)\n",
    "            f, e = os.path.splitext(path+item)\n",
    "            imResize = im.resize((28,28), Image.ANTIALIAS)\n",
    "            imResize.save(f + '.tif', 'TIFF', quality=120)\n",
    "\n",
    "resize()"
   ]
  },
  {
   "cell_type": "code",
   "execution_count": 290,
   "metadata": {
    "collapsed": true
   },
   "outputs": [],
   "source": [
    "from PIL import Image\n",
    "import os, sys\n",
    "\n",
    "path = \"/home/swapnil/Desktop/BENGALI_HANDWRITING_DATASET/train/8/\"\n",
    "dirs = os.listdir( path )\n",
    "\n",
    "def resize():\n",
    "    for item in dirs:\n",
    "        if os.path.isfile(path+item):\n",
    "            im = Image.open(path+item)\n",
    "            f, e = os.path.splitext(path+item)\n",
    "            imResize = im.resize((28,28), Image.ANTIALIAS)\n",
    "            imResize.save(f + '.tif', 'TIFF', quality=120)\n",
    "\n",
    "resize()"
   ]
  },
  {
   "cell_type": "code",
   "execution_count": 291,
   "metadata": {
    "collapsed": true
   },
   "outputs": [],
   "source": [
    "from PIL import Image\n",
    "import os, sys\n",
    "\n",
    "path = \"/home/swapnil/Desktop/BENGALI_HANDWRITING_DATASET/train/9/\"\n",
    "dirs = os.listdir( path )\n",
    "\n",
    "def resize():\n",
    "    for item in dirs:\n",
    "        if os.path.isfile(path+item):\n",
    "            im = Image.open(path+item)\n",
    "            f, e = os.path.splitext(path+item)\n",
    "            imResize = im.resize((28,28), Image.ANTIALIAS)\n",
    "            imResize.save(f + '.tif', 'TIFF', quality=120)\n",
    "\n",
    "resize()"
   ]
  },
  {
   "cell_type": "code",
   "execution_count": 292,
   "metadata": {
    "collapsed": true
   },
   "outputs": [],
   "source": [
    "from PIL import Image\n",
    "import os, sys\n",
    "\n",
    "path = \"/home/swapnil/Desktop/BENGALI_HANDWRITING_DATASET/test/0/\"\n",
    "dirs = os.listdir( path )\n",
    "\n",
    "def resize():\n",
    "    for item in dirs:\n",
    "        if os.path.isfile(path+item):\n",
    "            im = Image.open(path+item)\n",
    "            f, e = os.path.splitext(path+item)\n",
    "            imResize = im.resize((28,28), Image.ANTIALIAS)\n",
    "            imResize.save(f + '.tif', 'TIFF', quality=120)\n",
    "\n",
    "resize()"
   ]
  },
  {
   "cell_type": "code",
   "execution_count": 293,
   "metadata": {
    "collapsed": true
   },
   "outputs": [],
   "source": [
    "from PIL import Image\n",
    "import os, sys\n",
    "\n",
    "path = \"/home/swapnil/Desktop/BENGALI_HANDWRITING_DATASET/test/1/\"\n",
    "dirs = os.listdir( path )\n",
    "\n",
    "def resize():\n",
    "    for item in dirs:\n",
    "        if os.path.isfile(path+item):\n",
    "            im = Image.open(path+item)\n",
    "            f, e = os.path.splitext(path+item)\n",
    "            imResize = im.resize((28,28), Image.ANTIALIAS)\n",
    "            imResize.save(f + '.tif', 'TIFF', quality=120)\n",
    "\n",
    "resize()"
   ]
  },
  {
   "cell_type": "code",
   "execution_count": 294,
   "metadata": {
    "collapsed": true
   },
   "outputs": [],
   "source": [
    "from PIL import Image\n",
    "import os, sys\n",
    "\n",
    "path = \"/home/swapnil/Desktop/BENGALI_HANDWRITING_DATASET/test/2/\"\n",
    "dirs = os.listdir( path )\n",
    "\n",
    "def resize():\n",
    "    for item in dirs:\n",
    "        if os.path.isfile(path+item):\n",
    "            im = Image.open(path+item)\n",
    "            f, e = os.path.splitext(path+item)\n",
    "            imResize = im.resize((28,28), Image.ANTIALIAS)\n",
    "            imResize.save(f + '.tif', 'TIFF', quality=120)\n",
    "\n",
    "resize()"
   ]
  },
  {
   "cell_type": "code",
   "execution_count": 295,
   "metadata": {
    "collapsed": true
   },
   "outputs": [],
   "source": [
    "from PIL import Image\n",
    "import os, sys\n",
    "\n",
    "path = \"/home/swapnil/Desktop/BENGALI_HANDWRITING_DATASET/test/3/\"\n",
    "dirs = os.listdir( path )\n",
    "\n",
    "def resize():\n",
    "    for item in dirs:\n",
    "        if os.path.isfile(path+item):\n",
    "            im = Image.open(path+item)\n",
    "            f, e = os.path.splitext(path+item)\n",
    "            imResize = im.resize((28,28), Image.ANTIALIAS)\n",
    "            imResize.save(f + '.tif', 'TIFF', quality=120)\n",
    "\n",
    "resize()"
   ]
  },
  {
   "cell_type": "code",
   "execution_count": 296,
   "metadata": {
    "collapsed": true
   },
   "outputs": [],
   "source": [
    "from PIL import Image\n",
    "import os, sys\n",
    "\n",
    "path = \"/home/swapnil/Desktop/BENGALI_HANDWRITING_DATASET/test/4/\"\n",
    "dirs = os.listdir( path )\n",
    "\n",
    "def resize():\n",
    "    for item in dirs:\n",
    "        if os.path.isfile(path+item):\n",
    "            im = Image.open(path+item)\n",
    "            f, e = os.path.splitext(path+item)\n",
    "            imResize = im.resize((28,28), Image.ANTIALIAS)\n",
    "            imResize.save(f + '.tif', 'TIFF', quality=120)\n",
    "\n",
    "resize()"
   ]
  },
  {
   "cell_type": "code",
   "execution_count": 297,
   "metadata": {
    "collapsed": true
   },
   "outputs": [],
   "source": [
    "from PIL import Image\n",
    "import os, sys\n",
    "\n",
    "path = \"/home/swapnil/Desktop/BENGALI_HANDWRITING_DATASET/test/5/\"\n",
    "dirs = os.listdir( path )\n",
    "\n",
    "def resize():\n",
    "    for item in dirs:\n",
    "        if os.path.isfile(path+item):\n",
    "            im = Image.open(path+item)\n",
    "            f, e = os.path.splitext(path+item)\n",
    "            imResize = im.resize((28,28), Image.ANTIALIAS)\n",
    "            imResize.save(f + '.tif', 'TIFF', quality=120)\n",
    "\n",
    "resize()"
   ]
  },
  {
   "cell_type": "code",
   "execution_count": 298,
   "metadata": {
    "collapsed": true
   },
   "outputs": [],
   "source": [
    "from PIL import Image\n",
    "import os, sys\n",
    "\n",
    "path = \"/home/swapnil/Desktop/BENGALI_HANDWRITING_DATASET/test/6/\"\n",
    "dirs = os.listdir( path )\n",
    "\n",
    "def resize():\n",
    "    for item in dirs:\n",
    "        if os.path.isfile(path+item):\n",
    "            im = Image.open(path+item)\n",
    "            f, e = os.path.splitext(path+item)\n",
    "            imResize = im.resize((28,28), Image.ANTIALIAS)\n",
    "            imResize.save(f + '.tif', 'TIFF', quality=120)\n",
    "\n",
    "resize()"
   ]
  },
  {
   "cell_type": "code",
   "execution_count": 299,
   "metadata": {
    "collapsed": true
   },
   "outputs": [],
   "source": [
    "from PIL import Image\n",
    "import os, sys\n",
    "\n",
    "path = \"/home/swapnil/Desktop/BENGALI_HANDWRITING_DATASET/test/7/\"\n",
    "dirs = os.listdir( path )\n",
    "\n",
    "def resize():\n",
    "    for item in dirs:\n",
    "        if os.path.isfile(path+item):\n",
    "            im = Image.open(path+item)\n",
    "            f, e = os.path.splitext(path+item)\n",
    "            imResize = im.resize((28,28), Image.ANTIALIAS)\n",
    "            imResize.save(f + '.tif', 'TIFF', quality=120)\n",
    "\n",
    "resize()"
   ]
  },
  {
   "cell_type": "code",
   "execution_count": 300,
   "metadata": {
    "collapsed": true
   },
   "outputs": [],
   "source": [
    "from PIL import Image\n",
    "import os, sys\n",
    "\n",
    "path = \"/home/swapnil/Desktop/BENGALI_HANDWRITING_DATASET/test/8/\"\n",
    "dirs = os.listdir( path )\n",
    "\n",
    "def resize():\n",
    "    for item in dirs:\n",
    "        if os.path.isfile(path+item):\n",
    "            im = Image.open(path+item)\n",
    "            f, e = os.path.splitext(path+item)\n",
    "            imResize = im.resize((28,28), Image.ANTIALIAS)\n",
    "            imResize.save(f + '.tif', 'TIFF', quality=120)\n",
    "\n",
    "resize()"
   ]
  },
  {
   "cell_type": "code",
   "execution_count": 301,
   "metadata": {
    "collapsed": true
   },
   "outputs": [],
   "source": [
    "from PIL import Image\n",
    "import os, sys\n",
    "\n",
    "path = \"/home/swapnil/Desktop/BENGALI_HANDWRITING_DATASET/test/9/\"\n",
    "dirs = os.listdir( path )\n",
    "\n",
    "def resize():\n",
    "    for item in dirs:\n",
    "        if os.path.isfile(path+item):\n",
    "            im = Image.open(path+item)\n",
    "            f, e = os.path.splitext(path+item)\n",
    "            imResize = im.resize((28,28), Image.ANTIALIAS)\n",
    "            imResize.save(f + '.tif', 'TIFF', quality=120)\n",
    "\n",
    "resize()"
   ]
  },
  {
   "cell_type": "code",
   "execution_count": 302,
   "metadata": {},
   "outputs": [
    {
     "data": {
      "text/plain": [
       "(1933, 28, 28)"
      ]
     },
     "execution_count": 302,
     "metadata": {},
     "output_type": "execute_result"
    }
   ],
   "source": [
    "import numpy as np\n",
    "import glob\n",
    "filelist = glob.glob('/home/swapnil/Desktop/BENGALI_HANDWRITING_DATASET/train/0/*.tif')\n",
    "train_images_0 = np.array([np.array(Image.open(fname)) for fname in filelist])\n",
    "train_images_0.shape"
   ]
  },
  {
   "cell_type": "code",
   "execution_count": 303,
   "metadata": {},
   "outputs": [
    {
     "data": {
      "text/plain": [
       "(28, 28)"
      ]
     },
     "execution_count": 303,
     "metadata": {},
     "output_type": "execute_result"
    }
   ],
   "source": [
    "train_images_0[0].shape"
   ]
  },
  {
   "cell_type": "code",
   "execution_count": 304,
   "metadata": {},
   "outputs": [
    {
     "data": {
      "text/plain": [
       "(1945, 28, 28)"
      ]
     },
     "execution_count": 304,
     "metadata": {},
     "output_type": "execute_result"
    }
   ],
   "source": [
    "import glob\n",
    "filelist = glob.glob('/home/swapnil/Desktop/BENGALI_HANDWRITING_DATASET/train/1/*.tif')\n",
    "train_images_1 = np.array([np.array(Image.open(fname)) for fname in filelist])\n",
    "train_images_1.shape"
   ]
  },
  {
   "cell_type": "code",
   "execution_count": 305,
   "metadata": {},
   "outputs": [
    {
     "data": {
      "text/plain": [
       "(28, 28)"
      ]
     },
     "execution_count": 305,
     "metadata": {},
     "output_type": "execute_result"
    }
   ],
   "source": [
    "train_images_1[4].shape"
   ]
  },
  {
   "cell_type": "code",
   "execution_count": 306,
   "metadata": {},
   "outputs": [
    {
     "data": {
      "text/plain": [
       "(1944, 28, 28)"
      ]
     },
     "execution_count": 306,
     "metadata": {},
     "output_type": "execute_result"
    }
   ],
   "source": [
    "import glob\n",
    "filelist = glob.glob('/home/swapnil/Desktop/BENGALI_HANDWRITING_DATASET/train/2/*.tif')\n",
    "train_images_2 = np.array([np.array(Image.open(fname)) for fname in filelist])\n",
    "train_images_2.shape"
   ]
  },
  {
   "cell_type": "code",
   "execution_count": 307,
   "metadata": {},
   "outputs": [
    {
     "data": {
      "text/plain": [
       "(1956, 28, 28)"
      ]
     },
     "execution_count": 307,
     "metadata": {},
     "output_type": "execute_result"
    }
   ],
   "source": [
    "import glob\n",
    "filelist = glob.glob('/home/swapnil/Desktop/BENGALI_HANDWRITING_DATASET/train/3/*.tif')\n",
    "train_images_3 = np.array([np.array(Image.open(fname)) for fname in filelist])\n",
    "train_images_3.shape"
   ]
  },
  {
   "cell_type": "code",
   "execution_count": 308,
   "metadata": {},
   "outputs": [
    {
     "data": {
      "text/plain": [
       "(1945, 28, 28)"
      ]
     },
     "execution_count": 308,
     "metadata": {},
     "output_type": "execute_result"
    }
   ],
   "source": [
    "import glob\n",
    "filelist = glob.glob('/home/swapnil/Desktop/BENGALI_HANDWRITING_DATASET/train/4/*.tif')\n",
    "train_images_4 = np.array([np.array(Image.open(fname)) for fname in filelist])\n",
    "train_images_4.shape"
   ]
  },
  {
   "cell_type": "code",
   "execution_count": 309,
   "metadata": {},
   "outputs": [
    {
     "data": {
      "text/plain": [
       "(1933, 28, 28)"
      ]
     },
     "execution_count": 309,
     "metadata": {},
     "output_type": "execute_result"
    }
   ],
   "source": [
    "import glob\n",
    "filelist = glob.glob('/home/swapnil/Desktop/BENGALI_HANDWRITING_DATASET/train/5/*.tif')\n",
    "train_images_5 = np.array([np.array(Image.open(fname)) for fname in filelist])\n",
    "train_images_5.shape"
   ]
  },
  {
   "cell_type": "code",
   "execution_count": 310,
   "metadata": {},
   "outputs": [
    {
     "data": {
      "text/plain": [
       "(1930, 28, 28)"
      ]
     },
     "execution_count": 310,
     "metadata": {},
     "output_type": "execute_result"
    }
   ],
   "source": [
    "import glob\n",
    "filelist = glob.glob('/home/swapnil/Desktop/BENGALI_HANDWRITING_DATASET/train/6/*.tif')\n",
    "train_images_6 = np.array([np.array(Image.open(fname)) for fname in filelist])\n",
    "train_images_6.shape"
   ]
  },
  {
   "cell_type": "code",
   "execution_count": 311,
   "metadata": {},
   "outputs": [
    {
     "data": {
      "text/plain": [
       "(1928, 28, 28)"
      ]
     },
     "execution_count": 311,
     "metadata": {},
     "output_type": "execute_result"
    }
   ],
   "source": [
    "import glob\n",
    "filelist = glob.glob('/home/swapnil/Desktop/BENGALI_HANDWRITING_DATASET/train/7/*.tif')\n",
    "train_images_7 = np.array([np.array(Image.open(fname)) for fname in filelist])\n",
    "train_images_7.shape"
   ]
  },
  {
   "cell_type": "code",
   "execution_count": 312,
   "metadata": {},
   "outputs": [
    {
     "data": {
      "text/plain": [
       "(1932, 28, 28)"
      ]
     },
     "execution_count": 312,
     "metadata": {},
     "output_type": "execute_result"
    }
   ],
   "source": [
    "import glob\n",
    "filelist = glob.glob('/home/swapnil/Desktop/BENGALI_HANDWRITING_DATASET/train/8/*.tif')\n",
    "train_images_8 = np.array([np.array(Image.open(fname)) for fname in filelist])\n",
    "train_images_8.shape"
   ]
  },
  {
   "cell_type": "code",
   "execution_count": 313,
   "metadata": {},
   "outputs": [
    {
     "data": {
      "text/plain": [
       "(1945, 28, 28)"
      ]
     },
     "execution_count": 313,
     "metadata": {},
     "output_type": "execute_result"
    }
   ],
   "source": [
    "import glob\n",
    "filelist = glob.glob('/home/swapnil/Desktop/BENGALI_HANDWRITING_DATASET/train/9/*.tif')\n",
    "train_images_9 = np.array([np.array(Image.open(fname)) for fname in filelist])\n",
    "train_images_9.shape"
   ]
  },
  {
   "cell_type": "code",
   "execution_count": 314,
   "metadata": {},
   "outputs": [
    {
     "data": {
      "text/plain": [
       "(3878, 28, 28)"
      ]
     },
     "execution_count": 314,
     "metadata": {},
     "output_type": "execute_result"
    }
   ],
   "source": [
    "import numpy as np\n",
    "train_images = np.append(train_images_0,train_images_1,axis = 0)\n",
    "train_images.shape"
   ]
  },
  {
   "cell_type": "code",
   "execution_count": 315,
   "metadata": {},
   "outputs": [
    {
     "data": {
      "text/plain": [
       "(5822, 28, 28)"
      ]
     },
     "execution_count": 315,
     "metadata": {},
     "output_type": "execute_result"
    }
   ],
   "source": [
    "import numpy as np\n",
    "train_images = np.append(train_images,train_images_2,axis = 0)\n",
    "train_images.shape"
   ]
  },
  {
   "cell_type": "code",
   "execution_count": 316,
   "metadata": {},
   "outputs": [
    {
     "data": {
      "text/plain": [
       "(7778, 28, 28)"
      ]
     },
     "execution_count": 316,
     "metadata": {},
     "output_type": "execute_result"
    }
   ],
   "source": [
    "import numpy as np\n",
    "train_images = np.append(train_images,train_images_3,axis = 0)\n",
    "train_images.shape"
   ]
  },
  {
   "cell_type": "code",
   "execution_count": 317,
   "metadata": {},
   "outputs": [
    {
     "data": {
      "text/plain": [
       "(9723, 28, 28)"
      ]
     },
     "execution_count": 317,
     "metadata": {},
     "output_type": "execute_result"
    }
   ],
   "source": [
    "import numpy as np\n",
    "train_images = np.append(train_images,train_images_4,axis = 0)\n",
    "train_images.shape"
   ]
  },
  {
   "cell_type": "code",
   "execution_count": 318,
   "metadata": {},
   "outputs": [
    {
     "data": {
      "text/plain": [
       "(11656, 28, 28)"
      ]
     },
     "execution_count": 318,
     "metadata": {},
     "output_type": "execute_result"
    }
   ],
   "source": [
    "import numpy as np\n",
    "train_images = np.append(train_images,train_images_5,axis = 0)\n",
    "train_images.shape"
   ]
  },
  {
   "cell_type": "code",
   "execution_count": 319,
   "metadata": {},
   "outputs": [
    {
     "data": {
      "text/plain": [
       "(13586, 28, 28)"
      ]
     },
     "execution_count": 319,
     "metadata": {},
     "output_type": "execute_result"
    }
   ],
   "source": [
    "import numpy as np\n",
    "train_images = np.append(train_images,train_images_6,axis = 0)\n",
    "train_images.shape"
   ]
  },
  {
   "cell_type": "code",
   "execution_count": 320,
   "metadata": {},
   "outputs": [
    {
     "data": {
      "text/plain": [
       "(15514, 28, 28)"
      ]
     },
     "execution_count": 320,
     "metadata": {},
     "output_type": "execute_result"
    }
   ],
   "source": [
    "import numpy as np\n",
    "train_images = np.append(train_images,train_images_7,axis = 0)\n",
    "train_images.shape"
   ]
  },
  {
   "cell_type": "code",
   "execution_count": 321,
   "metadata": {},
   "outputs": [
    {
     "data": {
      "text/plain": [
       "(17446, 28, 28)"
      ]
     },
     "execution_count": 321,
     "metadata": {},
     "output_type": "execute_result"
    }
   ],
   "source": [
    "import numpy as np\n",
    "train_images = np.append(train_images,train_images_8,axis = 0)\n",
    "train_images.shape"
   ]
  },
  {
   "cell_type": "code",
   "execution_count": 322,
   "metadata": {},
   "outputs": [
    {
     "data": {
      "text/plain": [
       "(19391, 28, 28)"
      ]
     },
     "execution_count": 322,
     "metadata": {},
     "output_type": "execute_result"
    }
   ],
   "source": [
    "import numpy as np\n",
    "train_images = np.append(train_images,train_images_9,axis = 0)\n",
    "train_images.shape"
   ]
  },
  {
   "cell_type": "code",
   "execution_count": 323,
   "metadata": {
    "collapsed": true
   },
   "outputs": [],
   "source": [
    "import numpy as np"
   ]
  },
  {
   "cell_type": "code",
   "execution_count": 324,
   "metadata": {
    "collapsed": true
   },
   "outputs": [],
   "source": [
    "train_labels = []\n",
    "for i in range(1933):\n",
    "    train_labels.append(0)"
   ]
  },
  {
   "cell_type": "code",
   "execution_count": 325,
   "metadata": {
    "collapsed": true
   },
   "outputs": [],
   "source": [
    "for i in range(1933,3878):\n",
    "    train_labels.append(1)"
   ]
  },
  {
   "cell_type": "code",
   "execution_count": 326,
   "metadata": {
    "collapsed": true
   },
   "outputs": [],
   "source": [
    "for i in range(3878,5822):\n",
    "    train_labels.append(2)"
   ]
  },
  {
   "cell_type": "code",
   "execution_count": 327,
   "metadata": {
    "collapsed": true
   },
   "outputs": [],
   "source": [
    "for i in range(5822,7778):\n",
    "    train_labels.append(3)"
   ]
  },
  {
   "cell_type": "code",
   "execution_count": 328,
   "metadata": {
    "collapsed": true
   },
   "outputs": [],
   "source": [
    "for i in range(7778,9723):\n",
    "    train_labels.append(4)"
   ]
  },
  {
   "cell_type": "code",
   "execution_count": 329,
   "metadata": {
    "collapsed": true
   },
   "outputs": [],
   "source": [
    "for i in range(9723,11656):\n",
    "    train_labels.append(5)"
   ]
  },
  {
   "cell_type": "code",
   "execution_count": 330,
   "metadata": {
    "collapsed": true
   },
   "outputs": [],
   "source": [
    "for i in range(11656,13586):\n",
    "    train_labels.append(6)"
   ]
  },
  {
   "cell_type": "code",
   "execution_count": 331,
   "metadata": {
    "collapsed": true
   },
   "outputs": [],
   "source": [
    "for i in range(13586,15514):\n",
    "    train_labels.append(7)"
   ]
  },
  {
   "cell_type": "code",
   "execution_count": 332,
   "metadata": {
    "collapsed": true
   },
   "outputs": [],
   "source": [
    "for i in range(15514,17446):\n",
    "    train_labels.append(8)"
   ]
  },
  {
   "cell_type": "code",
   "execution_count": 333,
   "metadata": {
    "collapsed": true
   },
   "outputs": [],
   "source": [
    "for i in range(17446,19391):\n",
    "    train_labels.append(9)"
   ]
  },
  {
   "cell_type": "code",
   "execution_count": 334,
   "metadata": {
    "scrolled": false
   },
   "outputs": [
    {
     "data": {
      "text/plain": [
       "9"
      ]
     },
     "execution_count": 334,
     "metadata": {},
     "output_type": "execute_result"
    }
   ],
   "source": [
    "train_labels[19390]"
   ]
  },
  {
   "cell_type": "code",
   "execution_count": 335,
   "metadata": {
    "collapsed": true
   },
   "outputs": [],
   "source": [
    "import numpy as np\n",
    "train_labels = np.array(train_labels,dtype = np.uint8)"
   ]
  },
  {
   "cell_type": "code",
   "execution_count": 336,
   "metadata": {},
   "outputs": [
    {
     "data": {
      "text/plain": [
       "array([0, 0, 0, ..., 9, 9, 9], dtype=uint8)"
      ]
     },
     "execution_count": 336,
     "metadata": {},
     "output_type": "execute_result"
    }
   ],
   "source": [
    "train_labels"
   ]
  },
  {
   "cell_type": "code",
   "execution_count": 337,
   "metadata": {},
   "outputs": [
    {
     "data": {
      "text/plain": [
       "(400, 28, 28)"
      ]
     },
     "execution_count": 337,
     "metadata": {},
     "output_type": "execute_result"
    }
   ],
   "source": [
    "import numpy as np\n",
    "import glob\n",
    "filelist = glob.glob('/home/swapnil/Desktop/BENGALI_HANDWRITING_DATASET/test/0/*.tif')\n",
    "test_images_0 = np.array([np.array(Image.open(fname)) for fname in filelist])\n",
    "test_images_0.shape"
   ]
  },
  {
   "cell_type": "code",
   "execution_count": 338,
   "metadata": {},
   "outputs": [
    {
     "data": {
      "text/plain": [
       "(400, 28, 28)"
      ]
     },
     "execution_count": 338,
     "metadata": {},
     "output_type": "execute_result"
    }
   ],
   "source": [
    "import numpy as np\n",
    "import glob\n",
    "filelist = glob.glob('/home/swapnil/Desktop/BENGALI_HANDWRITING_DATASET/test/1/*.tif')\n",
    "test_images_1 = np.array([np.array(Image.open(fname)) for fname in filelist])\n",
    "test_images_1.shape"
   ]
  },
  {
   "cell_type": "code",
   "execution_count": 339,
   "metadata": {},
   "outputs": [
    {
     "data": {
      "text/plain": [
       "(400, 28, 28)"
      ]
     },
     "execution_count": 339,
     "metadata": {},
     "output_type": "execute_result"
    }
   ],
   "source": [
    "import numpy as np\n",
    "import glob\n",
    "filelist = glob.glob('/home/swapnil/Desktop/BENGALI_HANDWRITING_DATASET/test/2/*.tif')\n",
    "test_images_2 = np.array([np.array(Image.open(fname)) for fname in filelist])\n",
    "test_images_2.shape"
   ]
  },
  {
   "cell_type": "code",
   "execution_count": 340,
   "metadata": {},
   "outputs": [
    {
     "data": {
      "text/plain": [
       "(400, 28, 28)"
      ]
     },
     "execution_count": 340,
     "metadata": {},
     "output_type": "execute_result"
    }
   ],
   "source": [
    "import numpy as np\n",
    "import glob\n",
    "filelist = glob.glob('/home/swapnil/Desktop/BENGALI_HANDWRITING_DATASET/test/3/*.tif')\n",
    "test_images_3 = np.array([np.array(Image.open(fname)) for fname in filelist])\n",
    "test_images_3.shape"
   ]
  },
  {
   "cell_type": "code",
   "execution_count": 341,
   "metadata": {},
   "outputs": [
    {
     "data": {
      "text/plain": [
       "(400, 28, 28)"
      ]
     },
     "execution_count": 341,
     "metadata": {},
     "output_type": "execute_result"
    }
   ],
   "source": [
    "import numpy as np\n",
    "import glob\n",
    "filelist = glob.glob('/home/swapnil/Desktop/BENGALI_HANDWRITING_DATASET/test/4/*.tif')\n",
    "test_images_4 = np.array([np.array(Image.open(fname)) for fname in filelist])\n",
    "test_images_4.shape"
   ]
  },
  {
   "cell_type": "code",
   "execution_count": 342,
   "metadata": {},
   "outputs": [
    {
     "data": {
      "text/plain": [
       "(400, 28, 28)"
      ]
     },
     "execution_count": 342,
     "metadata": {},
     "output_type": "execute_result"
    }
   ],
   "source": [
    "import numpy as np\n",
    "import glob\n",
    "filelist = glob.glob('/home/swapnil/Desktop/BENGALI_HANDWRITING_DATASET/test/5/*.tif')\n",
    "test_images_5 = np.array([np.array(Image.open(fname)) for fname in filelist])\n",
    "test_images_5.shape"
   ]
  },
  {
   "cell_type": "code",
   "execution_count": 343,
   "metadata": {},
   "outputs": [
    {
     "data": {
      "text/plain": [
       "(400, 28, 28)"
      ]
     },
     "execution_count": 343,
     "metadata": {},
     "output_type": "execute_result"
    }
   ],
   "source": [
    "import numpy as np\n",
    "import glob\n",
    "filelist = glob.glob('/home/swapnil/Desktop/BENGALI_HANDWRITING_DATASET/test/6/*.tif')\n",
    "test_images_6 = np.array([np.array(Image.open(fname)) for fname in filelist])\n",
    "test_images_6.shape"
   ]
  },
  {
   "cell_type": "code",
   "execution_count": 344,
   "metadata": {},
   "outputs": [
    {
     "data": {
      "text/plain": [
       "(400, 28, 28)"
      ]
     },
     "execution_count": 344,
     "metadata": {},
     "output_type": "execute_result"
    }
   ],
   "source": [
    "import numpy as np\n",
    "import glob\n",
    "filelist = glob.glob('/home/swapnil/Desktop/BENGALI_HANDWRITING_DATASET/test/7/*.tif')\n",
    "test_images_7 = np.array([np.array(Image.open(fname)) for fname in filelist])\n",
    "test_images_7.shape"
   ]
  },
  {
   "cell_type": "code",
   "execution_count": 345,
   "metadata": {},
   "outputs": [
    {
     "data": {
      "text/plain": [
       "(400, 28, 28)"
      ]
     },
     "execution_count": 345,
     "metadata": {},
     "output_type": "execute_result"
    }
   ],
   "source": [
    "import numpy as np\n",
    "import glob\n",
    "filelist = glob.glob('/home/swapnil/Desktop/BENGALI_HANDWRITING_DATASET/test/8/*.tif')\n",
    "test_images_8 = np.array([np.array(Image.open(fname)) for fname in filelist])\n",
    "test_images_8.shape"
   ]
  },
  {
   "cell_type": "code",
   "execution_count": 346,
   "metadata": {},
   "outputs": [
    {
     "data": {
      "text/plain": [
       "(400, 28, 28)"
      ]
     },
     "execution_count": 346,
     "metadata": {},
     "output_type": "execute_result"
    }
   ],
   "source": [
    "import numpy as np\n",
    "import glob\n",
    "filelist = glob.glob('/home/swapnil/Desktop/BENGALI_HANDWRITING_DATASET/test/9/*.tif')\n",
    "test_images_9 = np.array([np.array(Image.open(fname)) for fname in filelist])\n",
    "test_images_9.shape"
   ]
  },
  {
   "cell_type": "code",
   "execution_count": 347,
   "metadata": {},
   "outputs": [
    {
     "data": {
      "text/plain": [
       "(800, 28, 28)"
      ]
     },
     "execution_count": 347,
     "metadata": {},
     "output_type": "execute_result"
    }
   ],
   "source": [
    "import numpy as np\n",
    "test_images = np.append(test_images_0,test_images_1,axis = 0)\n",
    "test_images.shape"
   ]
  },
  {
   "cell_type": "code",
   "execution_count": 348,
   "metadata": {},
   "outputs": [
    {
     "data": {
      "text/plain": [
       "(1200, 28, 28)"
      ]
     },
     "execution_count": 348,
     "metadata": {},
     "output_type": "execute_result"
    }
   ],
   "source": [
    "import numpy as np\n",
    "test_images = np.append(test_images,test_images_2,axis = 0)\n",
    "test_images.shape"
   ]
  },
  {
   "cell_type": "code",
   "execution_count": 349,
   "metadata": {},
   "outputs": [
    {
     "data": {
      "text/plain": [
       "(1600, 28, 28)"
      ]
     },
     "execution_count": 349,
     "metadata": {},
     "output_type": "execute_result"
    }
   ],
   "source": [
    "import numpy as np\n",
    "test_images = np.append(test_images,test_images_3,axis = 0)\n",
    "test_images.shape"
   ]
  },
  {
   "cell_type": "code",
   "execution_count": 350,
   "metadata": {},
   "outputs": [
    {
     "data": {
      "text/plain": [
       "(2000, 28, 28)"
      ]
     },
     "execution_count": 350,
     "metadata": {},
     "output_type": "execute_result"
    }
   ],
   "source": [
    "import numpy as np\n",
    "test_images = np.append(test_images,test_images_4,axis = 0)\n",
    "test_images.shape"
   ]
  },
  {
   "cell_type": "code",
   "execution_count": 351,
   "metadata": {},
   "outputs": [
    {
     "data": {
      "text/plain": [
       "(2400, 28, 28)"
      ]
     },
     "execution_count": 351,
     "metadata": {},
     "output_type": "execute_result"
    }
   ],
   "source": [
    "import numpy as np\n",
    "test_images = np.append(test_images,test_images_5,axis = 0)\n",
    "test_images.shape"
   ]
  },
  {
   "cell_type": "code",
   "execution_count": 352,
   "metadata": {},
   "outputs": [
    {
     "data": {
      "text/plain": [
       "(2800, 28, 28)"
      ]
     },
     "execution_count": 352,
     "metadata": {},
     "output_type": "execute_result"
    }
   ],
   "source": [
    "import numpy as np\n",
    "test_images = np.append(test_images,test_images_6,axis = 0)\n",
    "test_images.shape"
   ]
  },
  {
   "cell_type": "code",
   "execution_count": 353,
   "metadata": {},
   "outputs": [
    {
     "data": {
      "text/plain": [
       "(3200, 28, 28)"
      ]
     },
     "execution_count": 353,
     "metadata": {},
     "output_type": "execute_result"
    }
   ],
   "source": [
    "import numpy as np\n",
    "test_images = np.append(test_images,test_images_7,axis = 0)\n",
    "test_images.shape"
   ]
  },
  {
   "cell_type": "code",
   "execution_count": 354,
   "metadata": {},
   "outputs": [
    {
     "data": {
      "text/plain": [
       "(3600, 28, 28)"
      ]
     },
     "execution_count": 354,
     "metadata": {},
     "output_type": "execute_result"
    }
   ],
   "source": [
    "import numpy as np\n",
    "test_images = np.append(test_images,test_images_8,axis = 0)\n",
    "test_images.shape"
   ]
  },
  {
   "cell_type": "code",
   "execution_count": 355,
   "metadata": {},
   "outputs": [
    {
     "data": {
      "text/plain": [
       "(4000, 28, 28)"
      ]
     },
     "execution_count": 355,
     "metadata": {},
     "output_type": "execute_result"
    }
   ],
   "source": [
    "import numpy as np\n",
    "test_images = np.append(test_images,test_images_9,axis = 0)\n",
    "test_images.shape"
   ]
  },
  {
   "cell_type": "code",
   "execution_count": 356,
   "metadata": {
    "collapsed": true
   },
   "outputs": [],
   "source": [
    "test_labels = []\n",
    "for i in range(400):\n",
    "    test_labels.append(0)"
   ]
  },
  {
   "cell_type": "code",
   "execution_count": 357,
   "metadata": {
    "collapsed": true
   },
   "outputs": [],
   "source": [
    "for i in range(400,800):\n",
    "    test_labels.append(1)"
   ]
  },
  {
   "cell_type": "code",
   "execution_count": 358,
   "metadata": {
    "collapsed": true
   },
   "outputs": [],
   "source": [
    "for i in range(800,1200):\n",
    "    test_labels.append(2)"
   ]
  },
  {
   "cell_type": "code",
   "execution_count": 359,
   "metadata": {
    "collapsed": true
   },
   "outputs": [],
   "source": [
    "for i in range(1200,1600):\n",
    "    test_labels.append(3)"
   ]
  },
  {
   "cell_type": "code",
   "execution_count": 360,
   "metadata": {
    "collapsed": true
   },
   "outputs": [],
   "source": [
    "for i in range(1600,2000):\n",
    "    test_labels.append(4)"
   ]
  },
  {
   "cell_type": "code",
   "execution_count": 361,
   "metadata": {
    "collapsed": true
   },
   "outputs": [],
   "source": [
    "for i in range(2000,2400):\n",
    "    test_labels.append(5)"
   ]
  },
  {
   "cell_type": "code",
   "execution_count": 362,
   "metadata": {
    "collapsed": true
   },
   "outputs": [],
   "source": [
    "for i in range(2400,2800):\n",
    "    test_labels.append(6)"
   ]
  },
  {
   "cell_type": "code",
   "execution_count": 363,
   "metadata": {
    "collapsed": true
   },
   "outputs": [],
   "source": [
    "for i in range(2800,3200):\n",
    "    test_labels.append(7)"
   ]
  },
  {
   "cell_type": "code",
   "execution_count": 364,
   "metadata": {
    "collapsed": true
   },
   "outputs": [],
   "source": [
    "for i in range(3200,3600):\n",
    "    test_labels.append(8)"
   ]
  },
  {
   "cell_type": "code",
   "execution_count": 365,
   "metadata": {
    "collapsed": true
   },
   "outputs": [],
   "source": [
    "for i in range(3600,4000):\n",
    "    test_labels.append(9)"
   ]
  },
  {
   "cell_type": "code",
   "execution_count": 366,
   "metadata": {
    "collapsed": true
   },
   "outputs": [],
   "source": [
    "import numpy as np\n",
    "test_labels = np.array(test_labels,dtype = np.uint8)"
   ]
  },
  {
   "cell_type": "code",
   "execution_count": 367,
   "metadata": {},
   "outputs": [
    {
     "data": {
      "text/plain": [
       "array([0, 0, 0, ..., 9, 9, 9], dtype=uint8)"
      ]
     },
     "execution_count": 367,
     "metadata": {},
     "output_type": "execute_result"
    }
   ],
   "source": [
    "test_labels"
   ]
  },
  {
   "cell_type": "code",
   "execution_count": 368,
   "metadata": {
    "collapsed": true
   },
   "outputs": [],
   "source": [
    "train_images = train_images.reshape((19391, 28, 28, 1))\n",
    "test_images = test_images.reshape((4000, 28, 28, 1))\n",
    "train_images, test_images = train_images / 255.0, test_images / 255.0"
   ]
  },
  {
   "cell_type": "code",
   "execution_count": 369,
   "metadata": {
    "scrolled": false
   },
   "outputs": [
    {
     "name": "stdout",
     "output_type": "stream",
     "text": [
      "__________________________________________________________________________________________________\n",
      "Layer (type)                    Output Shape         Param #     Connected to                     \n",
      "==================================================================================================\n",
      "input_17 (InputLayer)           (None, 28, 28, 1)    0                                            \n",
      "__________________________________________________________________________________________________\n",
      "conv2d_103 (Conv2D)             (None, 26, 26, 6)    60          input_17[0][0]                   \n",
      "__________________________________________________________________________________________________\n",
      "batch_normalization_102 (BatchN (None, 26, 26, 6)    24          conv2d_103[0][0]                 \n",
      "__________________________________________________________________________________________________\n",
      "activation_102 (Activation)     (None, 26, 26, 6)    0           batch_normalization_102[0][0]    \n",
      "__________________________________________________________________________________________________\n",
      "zero_padding2d_93 (ZeroPadding2 (None, 28, 28, 6)    0           activation_102[0][0]             \n",
      "__________________________________________________________________________________________________\n",
      "conv2d_104 (Conv2D)             (None, 26, 26, 6)    330         zero_padding2d_93[0][0]          \n",
      "__________________________________________________________________________________________________\n",
      "batch_normalization_103 (BatchN (None, 26, 26, 6)    24          conv2d_104[0][0]                 \n",
      "__________________________________________________________________________________________________\n",
      "activation_103 (Activation)     (None, 26, 26, 6)    0           batch_normalization_103[0][0]    \n",
      "__________________________________________________________________________________________________\n",
      "zero_padding2d_94 (ZeroPadding2 (None, 28, 28, 6)    0           activation_103[0][0]             \n",
      "__________________________________________________________________________________________________\n",
      "conv2d_105 (Conv2D)             (None, 26, 26, 6)    330         zero_padding2d_94[0][0]          \n",
      "__________________________________________________________________________________________________\n",
      "batch_normalization_104 (BatchN (None, 26, 26, 6)    24          conv2d_105[0][0]                 \n",
      "__________________________________________________________________________________________________\n",
      "activation_104 (Activation)     (None, 26, 26, 6)    0           batch_normalization_104[0][0]    \n",
      "__________________________________________________________________________________________________\n",
      "add_31 (Add)                    (None, 26, 26, 6)    0           activation_104[0][0]             \n",
      "                                                                 activation_102[0][0]             \n",
      "__________________________________________________________________________________________________\n",
      "conv2d_106 (Conv2D)             (None, 12, 12, 32)   1760        add_31[0][0]                     \n",
      "__________________________________________________________________________________________________\n",
      "batch_normalization_105 (BatchN (None, 12, 12, 32)   128         conv2d_106[0][0]                 \n",
      "__________________________________________________________________________________________________\n",
      "activation_105 (Activation)     (None, 12, 12, 32)   0           batch_normalization_105[0][0]    \n",
      "__________________________________________________________________________________________________\n",
      "zero_padding2d_95 (ZeroPadding2 (None, 14, 14, 32)   0           activation_105[0][0]             \n",
      "__________________________________________________________________________________________________\n",
      "conv2d_107 (Conv2D)             (None, 12, 12, 32)   9248        zero_padding2d_95[0][0]          \n",
      "__________________________________________________________________________________________________\n",
      "batch_normalization_106 (BatchN (None, 12, 12, 32)   128         conv2d_107[0][0]                 \n",
      "__________________________________________________________________________________________________\n",
      "activation_106 (Activation)     (None, 12, 12, 32)   0           batch_normalization_106[0][0]    \n",
      "__________________________________________________________________________________________________\n",
      "zero_padding2d_96 (ZeroPadding2 (None, 14, 14, 32)   0           activation_106[0][0]             \n",
      "__________________________________________________________________________________________________\n",
      "conv2d_108 (Conv2D)             (None, 12, 12, 32)   9248        zero_padding2d_96[0][0]          \n",
      "__________________________________________________________________________________________________\n",
      "batch_normalization_107 (BatchN (None, 12, 12, 32)   128         conv2d_108[0][0]                 \n",
      "__________________________________________________________________________________________________\n",
      "activation_107 (Activation)     (None, 12, 12, 32)   0           batch_normalization_107[0][0]    \n",
      "__________________________________________________________________________________________________\n",
      "add_32 (Add)                    (None, 12, 12, 32)   0           activation_107[0][0]             \n",
      "                                                                 activation_105[0][0]             \n",
      "__________________________________________________________________________________________________\n",
      "zero_padding2d_97 (ZeroPadding2 (None, 14, 14, 32)   0           add_32[0][0]                     \n",
      "__________________________________________________________________________________________________\n",
      "conv2d_109 (Conv2D)             (None, 3, 3, 64)     18496       zero_padding2d_97[0][0]          \n",
      "__________________________________________________________________________________________________\n",
      "batch_normalization_108 (BatchN (None, 3, 3, 64)     256         conv2d_109[0][0]                 \n",
      "__________________________________________________________________________________________________\n",
      "activation_108 (Activation)     (None, 3, 3, 64)     0           batch_normalization_108[0][0]    \n",
      "__________________________________________________________________________________________________\n",
      "flatten_13 (Flatten)            (None, 576)          0           activation_108[0][0]             \n",
      "__________________________________________________________________________________________________\n",
      "dense_34 (Dense)                (None, 64)           36928       flatten_13[0][0]                 \n",
      "__________________________________________________________________________________________________\n",
      "dropout_23 (Dropout)            (None, 64)           0           dense_34[0][0]                   \n",
      "__________________________________________________________________________________________________\n",
      "dense_35 (Dense)                (None, 16)           1040        dropout_23[0][0]                 \n",
      "__________________________________________________________________________________________________\n",
      "dropout_24 (Dropout)            (None, 16)           0           dense_35[0][0]                   \n",
      "__________________________________________________________________________________________________\n",
      "dense_36 (Dense)                (None, 10)           170         dropout_24[0][0]                 \n",
      "==================================================================================================\n",
      "Total params: 78,322\n",
      "Trainable params: 77,966\n",
      "Non-trainable params: 356\n",
      "__________________________________________________________________________________________________\n"
     ]
    }
   ],
   "source": [
    "from keras.layers import Conv2D, MaxPooling2D, BatchNormalization, ZeroPadding2D\n",
    "from keras.layers import Flatten, Dense, Dropout, add\n",
    "from keras.layers import Input, Activation\n",
    "from keras.models import Model\n",
    "\n",
    "input_img = Input(shape = (28, 28, 1))\n",
    "\n",
    "#first = ZeroPadding2D((1,1))(input_img)\n",
    "second = Conv2D(6,(3,3))(input_img)\n",
    "second = BatchNormalization(axis=3)(second)\n",
    "second = Activation('relu')(second)\n",
    "\n",
    "third = ZeroPadding2D((1,1))(second)\n",
    "third = Conv2D(6,(3,3))(third)\n",
    "third = BatchNormalization(axis=3)(third)\n",
    "third = Activation('relu')(third)\n",
    "\n",
    "third = ZeroPadding2D((1,1))(third)\n",
    "third = Conv2D(6,(3,3))(third)\n",
    "third = BatchNormalization(axis=3)(third)\n",
    "third = Activation('relu')(third)\n",
    "\n",
    "res = add([third, second])\n",
    "\n",
    "#first2 = ZeroPadding2D((1,1))(res)\n",
    "second2 = Conv2D(32,(3,3), strides =(2,2))(res)\n",
    "second2 = BatchNormalization(axis=3)(second2)\n",
    "second2 = Activation('relu')(second2)\n",
    "\n",
    "third2 = ZeroPadding2D((1,1))(second2)\n",
    "third2 = Conv2D(32,(3,3))(third2)\n",
    "third2 = BatchNormalization(axis=3)(third2)\n",
    "third2 = Activation('relu')(third2)\n",
    "\n",
    "third2 = ZeroPadding2D((1,1))(third2)\n",
    "third2 = Conv2D(32,(3,3))(third2)\n",
    "third2 = BatchNormalization(axis=3)(third2)\n",
    "third2 = Activation('relu')(third2)\n",
    "\n",
    "res2 = add([third2, second2])\n",
    "\n",
    "first3 = ZeroPadding2D((1,1))(res2)\n",
    "second3 = Conv2D(64,(3,3), strides =(4,4))(first3)\n",
    "second3 = BatchNormalization(axis=3)(second3)\n",
    "second3 = Activation('relu')(second3)\n",
    "\n",
    "res3 = Flatten()(second3)\n",
    "res3 = Dense(64, activation='relu')(res3)\n",
    "res3 = Dropout(0.1)(res3)\n",
    "res3 = Dense(16, activation='relu')(res3)\n",
    "res3 = Dropout(0.1)(res3)\n",
    "res3 = Dense(10, activation='softmax')(res3)\n",
    "model = Model(inputs = input_img, outputs = res3)\n",
    "model.summary()"
   ]
  },
  {
   "cell_type": "code",
   "execution_count": 370,
   "metadata": {},
   "outputs": [
    {
     "name": "stdout",
     "output_type": "stream",
     "text": [
      "Epoch 1/20\n",
      "19391/19391 [==============================] - 58s 3ms/step - loss: 0.5195 - acc: 0.8318\n",
      "Epoch 2/20\n",
      "19391/19391 [==============================] - 53s 3ms/step - loss: 0.1725 - acc: 0.9481\n",
      "Epoch 3/20\n",
      "19391/19391 [==============================] - 55s 3ms/step - loss: 0.1164 - acc: 0.9644\n",
      "Epoch 4/20\n",
      "19391/19391 [==============================] - 57s 3ms/step - loss: 0.0898 - acc: 0.9722\n",
      "Epoch 5/20\n",
      "19391/19391 [==============================] - 56s 3ms/step - loss: 0.0748 - acc: 0.9770\n",
      "Epoch 6/20\n",
      "19391/19391 [==============================] - 57s 3ms/step - loss: 0.0661 - acc: 0.9799\n",
      "Epoch 7/20\n",
      "19391/19391 [==============================] - 57s 3ms/step - loss: 0.0518 - acc: 0.9840\n",
      "Epoch 8/20\n",
      "19391/19391 [==============================] - 57s 3ms/step - loss: 0.0510 - acc: 0.9850\n",
      "Epoch 9/20\n",
      "19391/19391 [==============================] - 59s 3ms/step - loss: 0.0425 - acc: 0.9870\n",
      "Epoch 10/20\n",
      "19391/19391 [==============================] - 58s 3ms/step - loss: 0.0399 - acc: 0.9873\n",
      "Epoch 11/20\n",
      "19391/19391 [==============================] - 56s 3ms/step - loss: 0.0386 - acc: 0.9879\n",
      "Epoch 12/20\n",
      "19391/19391 [==============================] - 57s 3ms/step - loss: 0.0375 - acc: 0.9881\n",
      "Epoch 13/20\n",
      "19391/19391 [==============================] - 57s 3ms/step - loss: 0.0304 - acc: 0.9904\n",
      "Epoch 14/20\n",
      "19391/19391 [==============================] - 56s 3ms/step - loss: 0.0305 - acc: 0.9908\n",
      "Epoch 15/20\n",
      "19391/19391 [==============================] - 58s 3ms/step - loss: 0.0227 - acc: 0.9936\n",
      "Epoch 16/20\n",
      "19391/19391 [==============================] - 57s 3ms/step - loss: 0.0292 - acc: 0.9914\n",
      "Epoch 17/20\n",
      "19391/19391 [==============================] - 57s 3ms/step - loss: 0.0268 - acc: 0.9919\n",
      "Epoch 18/20\n",
      "19391/19391 [==============================] - 59s 3ms/step - loss: 0.0268 - acc: 0.9920\n",
      "Epoch 19/20\n",
      "19391/19391 [==============================] - 58s 3ms/step - loss: 0.0180 - acc: 0.9946\n",
      "Epoch 20/20\n",
      "19391/19391 [==============================] - 57s 3ms/step - loss: 0.0183 - acc: 0.9945\n"
     ]
    },
    {
     "data": {
      "text/plain": [
       "<keras.callbacks.History at 0x7f0685e07940>"
      ]
     },
     "execution_count": 370,
     "metadata": {},
     "output_type": "execute_result"
    }
   ],
   "source": [
    "from keras.optimizers import SGD\n",
    "\n",
    "#sgd = SGD(lr=0.1, momentum=0.05, nesterov=True)\n",
    "model.compile(optimizer='adam',\n",
    "              loss='sparse_categorical_crossentropy',\n",
    "              metrics=['accuracy'])\n",
    "\n",
    "model.fit(train_images, train_labels, epochs=20)"
   ]
  },
  {
   "cell_type": "code",
   "execution_count": 371,
   "metadata": {},
   "outputs": [
    {
     "name": "stdout",
     "output_type": "stream",
     "text": [
      "4000/4000 [==============================] - 5s 1ms/step\n",
      "0.14600130883673773\n",
      "0.9705\n"
     ]
    }
   ],
   "source": [
    "test_loss, test_acc = model.evaluate(test_images, test_labels)\n",
    "print(test_loss)\n",
    "print(test_acc)"
   ]
  },
  {
   "cell_type": "code",
   "execution_count": 2,
   "metadata": {},
   "outputs": [],
   "source": [
    "import numpy as np\n",
    "\n",
    "print('Digits:  0 1 2 3 4 5 6 7 8 9')\n",
    "print('labels: %s' % np.unique(train_labels))\n",
    "print('Class distribution: %s' % np.bincount(train_labels))\n",
    "\n",
    "print('Digits:  0 1 2 3 4 5 6 7 8 9')\n",
    "print('labels: %s' % np.unique(test_labels))\n",
    "print('Class distribution: %s' % np.bincount(test_labels))"
   ]
  },
  {
   "cell_type": "code",
   "execution_count": null,
   "metadata": {
    "collapsed": true
   },
   "outputs": [],
   "source": []
  },
  {
   "cell_type": "code",
   "execution_count": null,
   "metadata": {
    "collapsed": true
   },
   "outputs": [],
   "source": []
  }
 ],
 "metadata": {
  "kernelspec": {
   "display_name": "Python 3 (ipykernel)",
   "language": "python",
   "name": "python3"
  },
  "language_info": {
   "codemirror_mode": {
    "name": "ipython",
    "version": 3
   },
   "file_extension": ".py",
   "mimetype": "text/x-python",
   "name": "python",
   "nbconvert_exporter": "python",
   "pygments_lexer": "ipython3",
   "version": "3.9.7"
  }
 },
 "nbformat": 4,
 "nbformat_minor": 2
}
